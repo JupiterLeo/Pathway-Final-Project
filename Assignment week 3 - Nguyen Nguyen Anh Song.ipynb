{
 "cells": [
  {
   "cell_type": "markdown",
   "id": "d044fbcc",
   "metadata": {},
   "source": [
    "# ASSIGNMENT WEEK 3\n",
    "## 25 Sep 2022\n",
    "Name: **Nguyen Nguyen Anh Song**"
   ]
  },
  {
   "cell_type": "markdown",
   "id": "55ee3536",
   "metadata": {},
   "source": [
    "### 1."
   ]
  },
  {
   "cell_type": "code",
   "execution_count": 123,
   "id": "71bdc069",
   "metadata": {},
   "outputs": [
    {
     "name": "stdout",
     "output_type": "stream",
     "text": [
      "Input 1st number: 5\n",
      "Input 2nd number: 6\n",
      "The result of ( 5 * 6 ):  30\n"
     ]
    }
   ],
   "source": [
    "num1 = int(input('Input 1st number: '))\n",
    "num2 = int(input('Input 2nd number: '))\n",
    "x = lambda num1,num2: num1*num2\n",
    "print('The result of (',num1,'*',num2,'): ',x(num1,num2))"
   ]
  },
  {
   "cell_type": "markdown",
   "id": "beb127b7",
   "metadata": {},
   "source": [
    "### 2"
   ]
  },
  {
   "cell_type": "code",
   "execution_count": 124,
   "id": "cb3270c9",
   "metadata": {},
   "outputs": [
    {
     "name": "stdout",
     "output_type": "stream",
     "text": [
      "Input the radius: 10\n",
      "The area of the cirle is:  314.1592653589793\n"
     ]
    }
   ],
   "source": [
    "r = float(input('Input the radius: '))\n",
    "from math import pi\n",
    "a = r**2*pi\n",
    "print('The area of the cirle is: ',a)"
   ]
  },
  {
   "cell_type": "markdown",
   "id": "587b5a96",
   "metadata": {},
   "source": [
    "### 3"
   ]
  },
  {
   "cell_type": "code",
   "execution_count": 125,
   "id": "0742d99c",
   "metadata": {},
   "outputs": [
    {
     "name": "stdout",
     "output_type": "stream",
     "text": [
      "Input 1st number: 2\n",
      "Input 2nd number: 5\n",
      "Selection a operation (multiply:m, divide:d; add:a; subtract:s): d\n",
      "The result is:  0.4\n"
     ]
    }
   ],
   "source": [
    "num1 = int(input('Input 1st number: '))\n",
    "num2 = int(input('Input 2nd number: '))\n",
    "op = str(input('Selection a operation (multiply:m, divide:d; add:a; subtract:s): '))\n",
    "def result(num1,num2,op):\n",
    "    if op == 'm':\n",
    "        return num1*num2\n",
    "    elif op == 'd' and num2!=0:\n",
    "        return num1/num2\n",
    "    elif op == 'd' and num2==0:\n",
    "        print('Error: division by zero')\n",
    "    elif op == 'a':\n",
    "        return num1+num2\n",
    "    elif op =='s':\n",
    "        return num1-num2\n",
    "    else:\n",
    "        print('It is not an operation')\n",
    "print('The result is: ',result(num1,num2,op))"
   ]
  },
  {
   "cell_type": "markdown",
   "id": "58420455",
   "metadata": {},
   "source": [
    "### 4"
   ]
  },
  {
   "cell_type": "code",
   "execution_count": 126,
   "id": "7cb8807e",
   "metadata": {},
   "outputs": [
    {
     "name": "stdout",
     "output_type": "stream",
     "text": [
      "Input the length of the rectangle: 5\n",
      "Input the width of the rectangle: 10\n",
      "The area of the rectangle is:  50\n"
     ]
    }
   ],
   "source": [
    "class rectangle():\n",
    "    def __init__(self,l,w):\n",
    "        self.length = l\n",
    "        self.width = w\n",
    "    def area(self):\n",
    "        return self.length*self.width    \n",
    "\n",
    "a = int(input('Input the length of the rectangle: '))\n",
    "b = int(input('Input the width of the rectangle: '))\n",
    "\n",
    "result = rectangle(a,b)\n",
    "print('The area of the rectangle is: ',result.area())"
   ]
  },
  {
   "cell_type": "markdown",
   "id": "b3075995",
   "metadata": {},
   "source": [
    "### 5"
   ]
  },
  {
   "cell_type": "code",
   "execution_count": 127,
   "id": "c728446c",
   "metadata": {},
   "outputs": [
    {
     "name": "stdout",
     "output_type": "stream",
     "text": [
      "25\n",
      "This is a: square\n"
     ]
    }
   ],
   "source": [
    "class Shape():\n",
    "    def __init__(self,name,length):\n",
    "        self.name = name\n",
    "        self.length = length\n",
    "    def area(self):\n",
    "        return 0\n",
    "\n",
    "class Square(Shape):\n",
    "    def area(self):\n",
    "        return self.length*self.length\n",
    "    def describe(self):\n",
    "        return self.name\n",
    "    \n",
    "s = Square('square',5)\n",
    "print(s.area())\n",
    "print('This is a:',s.describe())"
   ]
  }
 ],
 "metadata": {
  "kernelspec": {
   "display_name": "Python 3 (ipykernel)",
   "language": "python",
   "name": "python3"
  },
  "language_info": {
   "codemirror_mode": {
    "name": "ipython",
    "version": 3
   },
   "file_extension": ".py",
   "mimetype": "text/x-python",
   "name": "python",
   "nbconvert_exporter": "python",
   "pygments_lexer": "ipython3",
   "version": "3.9.12"
  }
 },
 "nbformat": 4,
 "nbformat_minor": 5
}
