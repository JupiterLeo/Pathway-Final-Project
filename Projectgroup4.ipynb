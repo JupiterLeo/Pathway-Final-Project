{
 "cells": [
  {
   "cell_type": "markdown",
   "id": "1b354301",
   "metadata": {},
   "source": [
    "# Final Project\n",
    "\n",
    "# Introduction to Computer Sciences\n",
    "\n",
    "## Group 4:\n",
    "       - Nguyen Nguyen Anh Song\n",
    "       - Hoang Le\n",
    "\n",
    "Github link: https://github.com/JupiterLeo/Pathway-Final-Project\n"
   ]
  },
  {
   "cell_type": "markdown",
   "id": "3d25ef11",
   "metadata": {},
   "source": [
    "## Project Topic No.3: Convertor\n",
    "\n",
    "Create a program that can be used to convert temperature, length, weight, pressure.\n",
    "Your program should have a menu displayed for the user to choose from, where are listed the convertion options\n",
    "   "
   ]
  },
  {
   "cell_type": "code",
   "execution_count": 13,
   "id": "a15bdd52",
   "metadata": {},
   "outputs": [
    {
     "name": "stdout",
     "output_type": "stream",
     "text": [
      "This is a unit conversion program\n"
     ]
    }
   ],
   "source": [
    "print('This is a unit conversion program')"
   ]
  },
  {
   "cell_type": "code",
   "execution_count": 14,
   "id": "e8d8775c",
   "metadata": {},
   "outputs": [],
   "source": [
    "# Creat a function of length converter\n",
    "# basic of calculation: 1 km = 0.621371 mile\n",
    "def length():   \n",
    "    op = input('''Select unit conversion: \n",
    "        Miles to Km (1) \n",
    "        Km to Mile (2)\n",
    "        ''')\n",
    "    value = float(input (\"Which value do you want to convert ?\"))\n",
    "    if op == \"1\":\n",
    "        result = round(value/0.621371,2)\n",
    "        print ('\\033[1m'+'Converted Length',value,'mi = ',result,'km'+ '\\033[0m')\n",
    "    elif op == \"2\":\n",
    "        result = round(value*0.621371,2)\n",
    "        print ('\\033[1m'+'Converted Length',value,'km = ',result,'mi'+ '\\033[0m')\n",
    "    else:\n",
    "        print('Please input proper convention')"
   ]
  },
  {
   "cell_type": "code",
   "execution_count": 15,
   "id": "4eddb5fd",
   "metadata": {},
   "outputs": [],
   "source": [
    "# Creat a function of temperature converter\n",
    "# basic of calculation: Celsius/5 = (Fahrenheit-32)/9\n",
    "def temperature():    \n",
    "    op = input('''Select unit conversion: \n",
    "        Celsius to Fahrenheit (1) \n",
    "        Fahrenheit to Celsius (2)\n",
    "        ''')\n",
    "    value = float(input (\"Which value do you want to convert ?\"))\n",
    "    if op == \"1\":\n",
    "        result = round((value * 9/5)+32,2)\n",
    "        print ('\\033[1m'+'Converted Temperature',value,'Celsius = ',result,'Fahrenheit'+ '\\033[0m')\n",
    "    elif op == \"2\":\n",
    "        result = round((value - 32)*5/9,2)\n",
    "        print ('\\033[1m'+'Converted Temperature',value,'Fahrenheit = ',result,'Celsius'+ '\\033[0m')\n",
    "    else:\n",
    "        print('Please input proper convention')"
   ]
  },
  {
   "cell_type": "code",
   "execution_count": 16,
   "id": "1a11e40d",
   "metadata": {},
   "outputs": [],
   "source": [
    "# Creat a function of weight converter\n",
    "# basic of calculation: 1 pound = 0.45359237 kg\n",
    "def weight():    \n",
    "    op = input('''Select unit conversion: \n",
    "        Pound to Kilograms (1) \n",
    "        Kilograms to Pound (2)\n",
    "        ''')\n",
    "    value = float(input (\"Which value do you want to convert ?\"))\n",
    "    if op == \"1\":\n",
    "        result = round(value*0.45359237,2)\n",
    "        print ('\\033[1m'+'Converted weight',value,'lbs = ',result,'kg'+ '\\033[0m')\n",
    "    elif op == \"2\":\n",
    "        result = round(value/0.45359237,2)\n",
    "        print('\\033[1m'+'Converted weight',value,'kg = ',result,'lbs'+ '\\033[0m')\n",
    "    else:\n",
    "        print('Please input proper convention')"
   ]
  },
  {
   "cell_type": "code",
   "execution_count": 17,
   "id": "4ccf009a",
   "metadata": {},
   "outputs": [],
   "source": [
    "# Creat a function of pressure converter\n",
    "# basic of calculation: 1 kPa = 12.35 Psi\n",
    "def pressure():    \n",
    "    op = input('''Select unit conversion: \n",
    "        Kilopascals to Pounds per Inch (1) \n",
    "        Pounds per Inch to Kilopascals (2)\n",
    "        ''')\n",
    "    value = float(input (\"Which value do you want to convert ?\"))\n",
    "    if op == \"1\":\n",
    "        result = round(value*12.35,2)\n",
    "        print ('\\033[1m'+'Converted pressure',value,'kPa = ',result,'Psi'+ '\\033[0m')\n",
    "    elif op == \"2\":\n",
    "        result = round(value/12.35,2)\n",
    "        print ('\\033[1m'+'Converted pressure',value,'Psi = ',result,'kPa'+ '\\033[0m')\n",
    "    else:\n",
    "        print('Please input proper convention')"
   ]
  },
  {
   "cell_type": "code",
   "execution_count": 18,
   "id": "1212b4bc",
   "metadata": {},
   "outputs": [
    {
     "name": "stdout",
     "output_type": "stream",
     "text": [
      "\n",
      "Please select the type of conversion?\n",
      "                           Temperature (t) \n",
      "                           Length (l)\n",
      "                           Weight (w)\n",
      "                           Pressure (p)\n",
      "                           t\n",
      "Select unit conversion: \n",
      "        Celsius to Fahrenheit (1) \n",
      "        Fahrenheit to Celsius (2)\n",
      "        1\n",
      "Which value do you want to convert ?25\n",
      "\u001b[1mConverted Temperature 25.0 Celsius =  77.0 Fahrenheit\u001b[0m\n",
      "Do you want to exit (y/n): n\n",
      "\n",
      "Please select the type of conversion?\n",
      "                           Temperature (t) \n",
      "                           Length (l)\n",
      "                           Weight (w)\n",
      "                           Pressure (p)\n",
      "                           w\n",
      "Select unit conversion: \n",
      "        Pound to Kilograms (1) \n",
      "        Kilograms to Pound (2)\n",
      "        2\n",
      "Which value do you want to convert ?10\n",
      "\u001b[1mConverted weight 10.0 kg =  22.05 lbs\u001b[0m\n",
      "Do you want to exit (y/n): y\n",
      "\n",
      "Thank you\n"
     ]
    }
   ],
   "source": [
    "\n",
    "# Set up the program\n",
    "# Set up a boolean value for user's answers\n",
    "useranswer_yes = True\n",
    "# Set up iterative structure\n",
    "while useranswer_yes != False:\n",
    "    print('')\n",
    "    answerType = input('''Please select the type of conversion?\n",
    "                           Temperature (t) \n",
    "                           Length (l)\n",
    "                           Weight (w)\n",
    "                           Pressure (p)\n",
    "                           ''')\n",
    "    if answerType ==\"l\":\n",
    "        length()\n",
    "    elif answerType ==\"t\":\n",
    "        temperature()\n",
    "    elif answerType ==\"w\":\n",
    "        weight()\n",
    "    elif answerType ==\"p\":\n",
    "        pressure()\n",
    "    else: \n",
    "        print('Please input proper convention')\n",
    "    answerexit = input('Do you want to exit (y/n): ')\n",
    "    if answerexit ==\"y\":\n",
    "        useranswer_yes = False\n",
    "print ('''\n",
    "Thank you''')"
   ]
  }
 ],
 "metadata": {
  "kernelspec": {
   "display_name": "Python 3 (ipykernel)",
   "language": "python",
   "name": "python3"
  },
  "language_info": {
   "codemirror_mode": {
    "name": "ipython",
    "version": 3
   },
   "file_extension": ".py",
   "mimetype": "text/x-python",
   "name": "python",
   "nbconvert_exporter": "python",
   "pygments_lexer": "ipython3",
   "version": "3.10.2"
  },
  "vscode": {
   "interpreter": {
    "hash": "2afb2d845623b5603d180809d3ef4f86c453c754913708c6d657ec861f23bc21"
   }
  }
 },
 "nbformat": 4,
 "nbformat_minor": 5
}
