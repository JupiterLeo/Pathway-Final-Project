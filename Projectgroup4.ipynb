{
 "cells": [
  {
   "cell_type": "markdown",
   "id": "1b354301",
   "metadata": {},
   "source": [
    "# Final Project\n",
    "\n",
    "# Introduction to Computer Sciences\n",
    "\n",
    "## Group 4:\n",
    "###       - Nguyen Nguyen Anh Song\n",
    "###       - Hoang Le\n",
    "\n"
   ]
  },
  {
   "cell_type": "markdown",
   "id": "3d25ef11",
   "metadata": {},
   "source": [
    "## Project Topic No.4: Convertor\n",
    "\n",
    "Create a program that can be used to convert temperature, length, weight, pressure.\n",
    "Your program should have a menu displayed for the user to choose from, where are listed the convertion options\n",
    "   "
   ]
  },
  {
   "cell_type": "code",
   "execution_count": 72,
   "id": "e8d8775c",
   "metadata": {},
   "outputs": [],
   "source": [
    "def length():\n",
    "    value = float(input (\"Which value do you want to convert ?\"))\n",
    "    op = input('''Select your unit convert: \n",
    "        Miles to Km (1) \n",
    "        Km to Mile (2)\n",
    "        ''')\n",
    "    \n",
    "    if op == \"1\":\n",
    "        result = value*0.621371\n",
    "        print ('Converted Length',value,'km = ',result,'mi')\n",
    "    elif op == \"2\":\n",
    "        result = value/0.621371\n",
    "        print ('Converted Length',value,'mi = ',result,'km')\n",
    "    else:\n",
    "        print('Please input correct unit convert: (1) or (2)')"
   ]
  },
  {
   "cell_type": "code",
   "execution_count": 73,
   "id": "4eddb5fd",
   "metadata": {},
   "outputs": [],
   "source": [
    "def temperature():\n",
    "    value = float(input (\"Which value do you want to convert ?\"))\n",
    "    op = input('''Select your unit convert: \n",
    "        Celsius to Fahrenheit (1) \n",
    "        Fahrenheit to Celsius (2)\n",
    "        ''')\n",
    "    \n",
    "    if op == \"1\":\n",
    "        result = (value * 9/5)+32\n",
    "        print ('Converted Temperature',value,'Celsius = ',result,'Fahrenheit')\n",
    "    elif op == \"2\":\n",
    "        result = (value - 32)*5/9\n",
    "        print ('Converted Temperature',value,'Fahrenheit = ',result,'Celsius')\n",
    "    else:\n",
    "        print('Please input correct unit convert: (1) or (2)')"
   ]
  },
  {
   "cell_type": "code",
   "execution_count": 74,
   "id": "1a11e40d",
   "metadata": {},
   "outputs": [],
   "source": [
    "def weight():\n",
    "    value = float(input (\"Which value do you want to convert ?\"))\n",
    "    op = input('''Select your unit convert: \n",
    "        Pound to Kilograms (1) \n",
    "        Kilograms to Pound (2)\n",
    "        ''')\n",
    "    \n",
    "    if op == \"1\":\n",
    "        result = value*0.45359237\n",
    "        print ('Converted Temperature',value,'Celsius = ',result,'Fahrenheit')\n",
    "    elif op == \"2\":\n",
    "        result = value/0.45359237\n",
    "        print('Converted Temperature',value,'Fahrenheit = ',result,'Celsius')\n",
    "    else:\n",
    "        print('Please input correct unit convert: (1) or (2)')"
   ]
  },
  {
   "cell_type": "code",
   "execution_count": 75,
   "id": "4ccf009a",
   "metadata": {},
   "outputs": [],
   "source": [
    "def pressure():\n",
    "    value = float(input (\"Which value do you want to convert ?\"))\n",
    "    op = input('''Select your unit convert: \n",
    "        Kilopascals to Pounds per Inch (1) \n",
    "        Pounds per Inch to Kilopascals (2)\n",
    "        ''')\n",
    "    \n",
    "    if op == \"1\":\n",
    "        result = value*12.35\n",
    "        print ('Converted Temperature',value,'Celsius = ',result,'Fahrenheit')\n",
    "    elif op == \"2\":\n",
    "        result = value/12.35\n",
    "        print ('Converted Temperature',value,'Fahrenheit = ',result,'Celsius')\n",
    "    else:\n",
    "        print('Please input correct unit convert: (1) or (2)')"
   ]
  },
  {
   "cell_type": "code",
   "execution_count": 76,
   "id": "1212b4bc",
   "metadata": {},
   "outputs": [
    {
     "name": "stdout",
     "output_type": "stream",
     "text": [
      "Which type of conversion?\n",
      "                           Temperature (t) \n",
      "                           Length (l)\n",
      "                           Weight (w)\n",
      "                           Pressure (p)\n",
      "                           o\n",
      "Please input correct type of conversion: (t) or (l) or (w) or (p)\n",
      "Do you want to exit (y/n): y\n",
      "Thank you\n"
     ]
    }
   ],
   "source": [
    "\n",
    "useranswer_yes = True\n",
    "\n",
    "while useranswer_yes != False:\n",
    "    answerType = input('''Which type of conversion?\n",
    "                           Temperature (t) \n",
    "                           Length (l)\n",
    "                           Weight (w)\n",
    "                           Pressure (p)\n",
    "                           ''')\n",
    "    if answerType ==\"l\":\n",
    "        length()\n",
    "    elif answerType ==\"t\":\n",
    "        temperature()\n",
    "    elif answerType ==\"w\":\n",
    "        weight()\n",
    "    elif answerType ==\"p\":\n",
    "        pressure()\n",
    "    print('Please input correct type of conversion: (t) or (l) or (w) or (p)')\n",
    "   \n",
    "    answerexit = input('Do you want to exit (y/n): ')\n",
    "    if answerexit ==\"y\":\n",
    "        useranswer_yes = False\n",
    "    print (\"Thank you\")"
   ]
  }
 ],
 "metadata": {
  "kernelspec": {
   "display_name": "Python 3 (ipykernel)",
   "language": "python",
   "name": "python3"
  },
  "language_info": {
   "codemirror_mode": {
    "name": "ipython",
    "version": 3
   },
   "file_extension": ".py",
   "mimetype": "text/x-python",
   "name": "python",
   "nbconvert_exporter": "python",
   "pygments_lexer": "ipython3",
   "version": "3.9.12"
  }
 },
 "nbformat": 4,
 "nbformat_minor": 5
}
