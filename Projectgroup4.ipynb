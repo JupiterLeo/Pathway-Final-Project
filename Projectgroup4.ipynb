{
 "cells": [
  {
   "cell_type": "markdown",
   "id": "1b354301",
   "metadata": {},
   "source": [
    "# Final Project\n",
    "\n",
    "# Introduction to Computer Sciences\n",
    "\n",
    "## Group 4:\n",
    "###       - Nguyen Nguyen Anh Song\n",
    "###       - Hoang Le\n",
    "\n"
   ]
  },
  {
   "cell_type": "markdown",
   "id": "3d25ef11",
   "metadata": {},
   "source": [
    "## Project Topic No.3: Convertor\n",
    "\n",
    "Create a program that can be used to convert temperature, length, weight, pressure.\n",
    "Your program should have a menu displayed for the user to choose from, where are listed the convertion options\n",
    "   "
   ]
  },
  {
   "cell_type": "code",
   "execution_count": 1,
   "id": "e8d8775c",
   "metadata": {},
   "outputs": [],
   "source": [
    "# Creat a function of length converter\n",
    "# basic of calculation: 1 km = 0.621371 mile\n",
    "def length():\n",
    "    value = float(input (\"Which value do you want to convert ?\"))\n",
    "    op = input('''Select your unit convert: \n",
    "        Miles to Km (1) \n",
    "        Km to Mile (2)\n",
    "        ''')\n",
    "    \n",
    "    if op == \"1\":\n",
    "        result = value*0.621371\n",
    "        print ('Converted Length',value,'km = ',result,'mi')\n",
    "    elif op == \"2\":\n",
    "        result = value/0.621371\n",
    "        print ('Converted Length',value,'mi = ',result,'km')\n",
    "    else:\n",
    "        print('Please input correct unit convert: (1) or (2)')"
   ]
  },
  {
   "cell_type": "code",
   "execution_count": 2,
   "id": "4eddb5fd",
   "metadata": {},
   "outputs": [],
   "source": [
    "# Creat a function of temperature converter\n",
    "# basic of calculation: Celsius/5 = (Fahrenheit-32)/9\n",
    "def temperature():\n",
    "    value = float(input (\"Which value do you want to convert ?\"))\n",
    "    op = input('''Select your unit convert: \n",
    "        Celsius to Fahrenheit (1) \n",
    "        Fahrenheit to Celsius (2)\n",
    "        ''')\n",
    "    \n",
    "    if op == \"1\":\n",
    "        result = (value * 9/5)+32\n",
    "        print ('Converted Temperature',value,'Celsius = ',result,'Fahrenheit')\n",
    "    elif op == \"2\":\n",
    "        result = (value - 32)*5/9\n",
    "        print ('Converted Temperature',value,'Fahrenheit = ',result,'Celsius')\n",
    "    else:\n",
    "        print('Please input correct unit convert: (1) or (2)')"
   ]
  },
  {
   "cell_type": "code",
   "execution_count": 3,
   "id": "1a11e40d",
   "metadata": {},
   "outputs": [],
   "source": [
    "# Creat a function of weight converter\n",
    "# basic of calculation: 1 pound = 0.45359237 kg\n",
    "def weight():\n",
    "    value = float(input (\"Which value do you want to convert ?\"))\n",
    "    op = input('''Select your unit convert: \n",
    "        Pound to Kilograms (1) \n",
    "        Kilograms to Pound (2)\n",
    "        ''')\n",
    "    \n",
    "    if op == \"1\":\n",
    "        result = value*0.45359237\n",
    "        print ('Converted weight',value,'lbs = ',result,'kg')\n",
    "    elif op == \"2\":\n",
    "        result = value/0.45359237\n",
    "        print('Converted weight',value,'kg = ',result,'lbs')\n",
    "    else:\n",
    "        print('Please input correct unit convert: (1) or (2)')"
   ]
  },
  {
   "cell_type": "code",
   "execution_count": 4,
   "id": "4ccf009a",
   "metadata": {},
   "outputs": [],
   "source": [
    "# Creat a function of pressure converter\n",
    "# basic of calculation: 1 kPa = 12.35 Psi\n",
    "def pressure():\n",
    "    value = float(input (\"Which value do you want to convert ?\"))\n",
    "    op = input('''Select your unit convert: \n",
    "        Kilopascals to Pounds per Inch (1) \n",
    "        Pounds per Inch to Kilopascals (2)\n",
    "        ''')\n",
    "    \n",
    "    if op == \"1\":\n",
    "        result = value*12.35\n",
    "        print ('Converted pressure',value,'kPa = ',result,'Psi')\n",
    "    elif op == \"2\":\n",
    "        result = value/12.35\n",
    "        print ('Converted pressure',value,'Psi = ',result,'Kpa')\n",
    "    else:\n",
    "        print('Please input correct unit convert: (1) or (2)')"
   ]
  },
  {
   "cell_type": "code",
   "execution_count": 5,
   "id": "1212b4bc",
   "metadata": {},
   "outputs": [
    {
     "name": "stdout",
     "output_type": "stream",
     "text": [
      "Converted weight 100.0 Pound =  45.359237 Kilograms\n",
      "Please input correct type of conversion: (t) or (l) or (w) or (p)\n",
      "Thank you\n",
      "Converted weight 10.0 Pound =  4.535923700000001 Kilograms\n",
      "Please input correct type of conversion: (t) or (l) or (w) or (p)\n",
      "Thank you\n"
     ]
    },
    {
     "ename": "KeyboardInterrupt",
     "evalue": "Interrupted by user",
     "output_type": "error",
     "traceback": [
      "\u001b[1;31m---------------------------------------------------------------------------\u001b[0m",
      "\u001b[1;31mKeyboardInterrupt\u001b[0m                         Traceback (most recent call last)",
      "Cell \u001b[1;32mIn [5], line 6\u001b[0m\n\u001b[0;32m      3\u001b[0m useranswer_yes \u001b[39m=\u001b[39m \u001b[39mTrue\u001b[39;00m\n\u001b[0;32m      5\u001b[0m \u001b[39mwhile\u001b[39;00m useranswer_yes \u001b[39m!=\u001b[39m \u001b[39mFalse\u001b[39;00m:\n\u001b[1;32m----> 6\u001b[0m     answerType \u001b[39m=\u001b[39m \u001b[39minput\u001b[39;49m(\u001b[39m'''\u001b[39;49m\u001b[39mWhich type of conversion?\u001b[39;49m\n\u001b[0;32m      7\u001b[0m \u001b[39m                           Temperature (t) \u001b[39;49m\n\u001b[0;32m      8\u001b[0m \u001b[39m                           Length (l)\u001b[39;49m\n\u001b[0;32m      9\u001b[0m \u001b[39m                           Weight (w)\u001b[39;49m\n\u001b[0;32m     10\u001b[0m \u001b[39m                           Pressure (p)\u001b[39;49m\n\u001b[0;32m     11\u001b[0m \u001b[39m                           \u001b[39;49m\u001b[39m'''\u001b[39;49m)\n\u001b[0;32m     12\u001b[0m     \u001b[39mif\u001b[39;00m answerType \u001b[39m==\u001b[39m\u001b[39m\"\u001b[39m\u001b[39ml\u001b[39m\u001b[39m\"\u001b[39m:\n\u001b[0;32m     13\u001b[0m         length()\n",
      "File \u001b[1;32mc:\\Users\\songn\\AppData\\Local\\Programs\\Python\\Python310\\lib\\site-packages\\ipykernel\\kernelbase.py:1177\u001b[0m, in \u001b[0;36mKernel.raw_input\u001b[1;34m(self, prompt)\u001b[0m\n\u001b[0;32m   1173\u001b[0m \u001b[39mif\u001b[39;00m \u001b[39mnot\u001b[39;00m \u001b[39mself\u001b[39m\u001b[39m.\u001b[39m_allow_stdin:\n\u001b[0;32m   1174\u001b[0m     \u001b[39mraise\u001b[39;00m StdinNotImplementedError(\n\u001b[0;32m   1175\u001b[0m         \u001b[39m\"\u001b[39m\u001b[39mraw_input was called, but this frontend does not support input requests.\u001b[39m\u001b[39m\"\u001b[39m\n\u001b[0;32m   1176\u001b[0m     )\n\u001b[1;32m-> 1177\u001b[0m \u001b[39mreturn\u001b[39;00m \u001b[39mself\u001b[39;49m\u001b[39m.\u001b[39;49m_input_request(\n\u001b[0;32m   1178\u001b[0m     \u001b[39mstr\u001b[39;49m(prompt),\n\u001b[0;32m   1179\u001b[0m     \u001b[39mself\u001b[39;49m\u001b[39m.\u001b[39;49m_parent_ident[\u001b[39m\"\u001b[39;49m\u001b[39mshell\u001b[39;49m\u001b[39m\"\u001b[39;49m],\n\u001b[0;32m   1180\u001b[0m     \u001b[39mself\u001b[39;49m\u001b[39m.\u001b[39;49mget_parent(\u001b[39m\"\u001b[39;49m\u001b[39mshell\u001b[39;49m\u001b[39m\"\u001b[39;49m),\n\u001b[0;32m   1181\u001b[0m     password\u001b[39m=\u001b[39;49m\u001b[39mFalse\u001b[39;49;00m,\n\u001b[0;32m   1182\u001b[0m )\n",
      "File \u001b[1;32mc:\\Users\\songn\\AppData\\Local\\Programs\\Python\\Python310\\lib\\site-packages\\ipykernel\\kernelbase.py:1219\u001b[0m, in \u001b[0;36mKernel._input_request\u001b[1;34m(self, prompt, ident, parent, password)\u001b[0m\n\u001b[0;32m   1216\u001b[0m             \u001b[39mbreak\u001b[39;00m\n\u001b[0;32m   1217\u001b[0m \u001b[39mexcept\u001b[39;00m \u001b[39mKeyboardInterrupt\u001b[39;00m:\n\u001b[0;32m   1218\u001b[0m     \u001b[39m# re-raise KeyboardInterrupt, to truncate traceback\u001b[39;00m\n\u001b[1;32m-> 1219\u001b[0m     \u001b[39mraise\u001b[39;00m \u001b[39mKeyboardInterrupt\u001b[39;00m(\u001b[39m\"\u001b[39m\u001b[39mInterrupted by user\u001b[39m\u001b[39m\"\u001b[39m) \u001b[39mfrom\u001b[39;00m \u001b[39mNone\u001b[39m\n\u001b[0;32m   1220\u001b[0m \u001b[39mexcept\u001b[39;00m \u001b[39mException\u001b[39;00m:\n\u001b[0;32m   1221\u001b[0m     \u001b[39mself\u001b[39m\u001b[39m.\u001b[39mlog\u001b[39m.\u001b[39mwarning(\u001b[39m\"\u001b[39m\u001b[39mInvalid Message:\u001b[39m\u001b[39m\"\u001b[39m, exc_info\u001b[39m=\u001b[39m\u001b[39mTrue\u001b[39;00m)\n",
      "\u001b[1;31mKeyboardInterrupt\u001b[0m: Interrupted by user"
     ]
    }
   ],
   "source": [
    "\n",
    "# Set up the program\n",
    "# Set up a boolean value for user's answers\n",
    "useranswer_yes = True\n",
    "\n",
    "while useranswer_yes != False:\n",
    "    answerType = input('''Which type of conversion?\n",
    "                           Temperature (t) \n",
    "                           Length (l)\n",
    "                           Weight (w)\n",
    "                           Pressure (p)\n",
    "                           ''')\n",
    "    if answerType ==\"l\":\n",
    "        length()\n",
    "    elif answerType ==\"t\":\n",
    "        temperature()\n",
    "    elif answerType ==\"w\":\n",
    "        weight()\n",
    "    elif answerType ==\"p\":\n",
    "        pressure()\n",
    "    print('Please input correct type of conversion: (t) or (l) or (w) or (p)')\n",
    "   \n",
    "    answerexit = input('Do you want to exit (y/n): ')\n",
    "    if answerexit ==\"y\":\n",
    "        useranswer_yes = False\n",
    "    print (\"Thank you\")"
   ]
  }
 ],
 "metadata": {
  "kernelspec": {
   "display_name": "Python 3.10.2 64-bit",
   "language": "python",
   "name": "python3"
  },
  "language_info": {
   "codemirror_mode": {
    "name": "ipython",
    "version": 3
   },
   "file_extension": ".py",
   "mimetype": "text/x-python",
   "name": "python",
   "nbconvert_exporter": "python",
   "pygments_lexer": "ipython3",
   "version": "3.10.2"
  },
  "vscode": {
   "interpreter": {
    "hash": "2afb2d845623b5603d180809d3ef4f86c453c754913708c6d657ec861f23bc21"
   }
  }
 },
 "nbformat": 4,
 "nbformat_minor": 5
}
